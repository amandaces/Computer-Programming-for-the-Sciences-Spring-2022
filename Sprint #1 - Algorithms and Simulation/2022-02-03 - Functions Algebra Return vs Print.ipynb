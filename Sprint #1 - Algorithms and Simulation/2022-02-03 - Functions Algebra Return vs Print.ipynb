{
 "cells": [
  {
   "cell_type": "markdown",
   "id": "4bbd5b70-0a3e-4354-a995-af0b9e963858",
   "metadata": {},
   "source": [
    "Fake trig identity\n",
    "\n",
    "$$\n",
    "3\\sin x +2\\cos^2 x=5\n",
    "$$"
   ]
  },
  {
   "cell_type": "code",
   "execution_count": 1,
   "id": "967d2c22-b990-42f2-88cc-be5a0beca82e",
   "metadata": {},
   "outputs": [
    {
     "name": "stdout",
     "output_type": "stream",
     "text": [
      "Populating the interactive namespace from numpy and matplotlib\n"
     ]
    }
   ],
   "source": [
    "%pylab inline"
   ]
  },
  {
   "cell_type": "code",
   "execution_count": 2,
   "id": "fb88f75b-7ad4-4165-bc99-934f37b6654d",
   "metadata": {},
   "outputs": [
    {
     "ename": "SyntaxError",
     "evalue": "invalid syntax (3633102535.py, line 1)",
     "output_type": "error",
     "traceback": [
      "\u001b[0;36m  File \u001b[0;32m\"/Users/bblais/tmp/ipykernel_15856/3633102535.py\"\u001b[0;36m, line \u001b[0;32m1\u001b[0m\n\u001b[0;31m    3sinx\u001b[0m\n\u001b[0m     ^\u001b[0m\n\u001b[0;31mSyntaxError\u001b[0m\u001b[0;31m:\u001b[0m invalid syntax\n"
     ]
    }
   ],
   "source": [
    "3sinx"
   ]
  },
  {
   "cell_type": "code",
   "execution_count": 3,
   "id": "ffb8b383-0073-4381-b554-da820518edc1",
   "metadata": {},
   "outputs": [
    {
     "ename": "SyntaxError",
     "evalue": "invalid syntax (1401440625.py, line 1)",
     "output_type": "error",
     "traceback": [
      "\u001b[0;36m  File \u001b[0;32m\"/Users/bblais/tmp/ipykernel_15856/1401440625.py\"\u001b[0;36m, line \u001b[0;32m1\u001b[0m\n\u001b[0;31m    3sin(x)\u001b[0m\n\u001b[0m     ^\u001b[0m\n\u001b[0;31mSyntaxError\u001b[0m\u001b[0;31m:\u001b[0m invalid syntax\n"
     ]
    }
   ],
   "source": [
    "3sin(x)"
   ]
  },
  {
   "cell_type": "code",
   "execution_count": 4,
   "id": "277d7d13-4bd9-4a10-a1b2-a674ded921ee",
   "metadata": {},
   "outputs": [
    {
     "ename": "NameError",
     "evalue": "name 'x' is not defined",
     "output_type": "error",
     "traceback": [
      "\u001b[0;31m---------------------------------------------------------------------------\u001b[0m",
      "\u001b[0;31mNameError\u001b[0m                                 Traceback (most recent call last)",
      "\u001b[0;32m~/tmp/ipykernel_15856/733806094.py\u001b[0m in \u001b[0;36m<module>\u001b[0;34m\u001b[0m\n\u001b[0;32m----> 1\u001b[0;31m \u001b[0;36m3\u001b[0m\u001b[0;34m*\u001b[0m\u001b[0msin\u001b[0m\u001b[0;34m(\u001b[0m\u001b[0mx\u001b[0m\u001b[0;34m)\u001b[0m\u001b[0;34m\u001b[0m\u001b[0;34m\u001b[0m\u001b[0m\n\u001b[0m",
      "\u001b[0;31mNameError\u001b[0m: name 'x' is not defined"
     ]
    }
   ],
   "source": [
    "3*sin(x)"
   ]
  },
  {
   "cell_type": "code",
   "execution_count": 5,
   "id": "dc8f68ec-aaad-4f2a-9bb4-c539b6301969",
   "metadata": {},
   "outputs": [],
   "source": [
    "x=2.0"
   ]
  },
  {
   "cell_type": "code",
   "execution_count": 6,
   "id": "4628f03c-017b-4546-881b-3270555c6ce1",
   "metadata": {},
   "outputs": [
    {
     "data": {
      "text/plain": [
       "2.727892280477045"
      ]
     },
     "execution_count": 6,
     "metadata": {},
     "output_type": "execute_result"
    }
   ],
   "source": [
    "3*sin(x)"
   ]
  },
  {
   "cell_type": "code",
   "execution_count": 7,
   "id": "1ee5bbc9-d262-47d9-ab61-cff4df234610",
   "metadata": {},
   "outputs": [
    {
     "ename": "TypeError",
     "evalue": "unsupported operand type(s) for ** or pow(): 'numpy.ufunc' and 'float'",
     "output_type": "error",
     "traceback": [
      "\u001b[0;31m---------------------------------------------------------------------------\u001b[0m",
      "\u001b[0;31mTypeError\u001b[0m                                 Traceback (most recent call last)",
      "\u001b[0;32m~/tmp/ipykernel_15856/4212197226.py\u001b[0m in \u001b[0;36m<module>\u001b[0;34m\u001b[0m\n\u001b[0;32m----> 1\u001b[0;31m \u001b[0;36m2\u001b[0m\u001b[0;34m*\u001b[0m\u001b[0mcos\u001b[0m\u001b[0;34m**\u001b[0m\u001b[0;34m(\u001b[0m\u001b[0mx\u001b[0m\u001b[0;34m)\u001b[0m\u001b[0;34m\u001b[0m\u001b[0;34m\u001b[0m\u001b[0m\n\u001b[0m",
      "\u001b[0;31mTypeError\u001b[0m: unsupported operand type(s) for ** or pow(): 'numpy.ufunc' and 'float'"
     ]
    }
   ],
   "source": [
    "2*cos**(x)"
   ]
  },
  {
   "cell_type": "code",
   "execution_count": 8,
   "id": "5351e54d-3b08-4b08-8670-9bd8f0fd7148",
   "metadata": {},
   "outputs": [
    {
     "data": {
      "text/plain": [
       "0.3463563791363881"
      ]
     },
     "execution_count": 8,
     "metadata": {},
     "output_type": "execute_result"
    }
   ],
   "source": [
    "2*cos(x)**2"
   ]
  },
  {
   "cell_type": "code",
   "execution_count": 9,
   "id": "0102f72a-f730-4a97-a79c-e7e7358415ed",
   "metadata": {},
   "outputs": [
    {
     "data": {
      "text/plain": [
       "3.074248659613433"
      ]
     },
     "execution_count": 9,
     "metadata": {},
     "output_type": "execute_result"
    }
   ],
   "source": [
    "3*sin(x)+2*cos(x)**2"
   ]
  },
  {
   "cell_type": "markdown",
   "id": "539f326a-24f7-4a26-8fee-38e2b0b37525",
   "metadata": {},
   "source": [
    "Fake trig identity\n",
    "\n",
    "$$\n",
    "3\\sin x - 2\\cos^2 x=-2\n",
    "$$"
   ]
  },
  {
   "cell_type": "code",
   "execution_count": 10,
   "id": "ee0e0df5-6407-4ed4-b172-0914c7ba17c8",
   "metadata": {},
   "outputs": [],
   "source": [
    "x=0.0"
   ]
  },
  {
   "cell_type": "code",
   "execution_count": 11,
   "id": "10f78291-bbcc-427d-a552-3ffcce1a6e24",
   "metadata": {},
   "outputs": [
    {
     "data": {
      "text/plain": [
       "-2.0"
      ]
     },
     "execution_count": 11,
     "metadata": {},
     "output_type": "execute_result"
    }
   ],
   "source": [
    "3*sin(x)-2*cos(x)**2"
   ]
  },
  {
   "cell_type": "code",
   "execution_count": 12,
   "id": "08eff8c1-0d27-488d-8b4a-c95e2b6c6e2a",
   "metadata": {},
   "outputs": [],
   "source": [
    "x=1.0"
   ]
  },
  {
   "cell_type": "code",
   "execution_count": 13,
   "id": "c98be395-f230-4dbb-9ef4-929132075056",
   "metadata": {},
   "outputs": [
    {
     "data": {
      "text/plain": [
       "1.9405597909708314"
      ]
     },
     "execution_count": 13,
     "metadata": {},
     "output_type": "execute_result"
    }
   ],
   "source": [
    "3*sin(x)-2*cos(x)**2"
   ]
  },
  {
   "cell_type": "code",
   "execution_count": 14,
   "id": "13d8cadf-d886-4387-ae34-3eb00d64521c",
   "metadata": {},
   "outputs": [
    {
     "name": "stdout",
     "output_type": "stream",
     "text": [
      "0 -2.0\n",
      "1 1.9405597909708314\n",
      "2 2.3815359013406567\n",
      "3 -1.5368102624707642\n",
      "4 -3.124907452115171\n",
      "5 -3.0377012949129627\n",
      "6 -2.68210045332927\n",
      "7 0.8342225779485337\n",
      "8 2.92573422019353\n",
      "9 -0.4239612525188101\n",
      "10 -3.0401453944815016\n",
      "11 -3.000009793257473\n",
      "12 -3.0338977613383022\n",
      "13 -0.3864182118487176\n",
      "14 2.9344279333981778\n",
      "15 0.7966120705837672\n",
      "16 -2.697933310501706\n",
      "17 -3.035622200854065\n",
      "18 -3.1249980506876236\n",
      "19 -1.5054420150584376\n",
      "20 2.405773813835145\n",
      "21 1.9099522305965189\n",
      "22 -2.026397236518903\n",
      "23 -3.106483267640734\n",
      "24 -3.076590746550672\n",
      "25 -2.3620212787854324\n",
      "26 1.4506661322345138\n",
      "27 2.6984376180766594\n",
      "28 -1.040502742798977\n",
      "29 -3.1100817880877223\n",
      "30 -3.011681891863429\n",
      "31 -2.8856200982927813\n",
      "32 0.26242281329552175\n",
      "33 2.9993830362881515\n",
      "34 0.1471050358640309\n",
      "35 -2.9178672115747526\n",
      "36 -3.008085972055465\n",
      "37 -3.102331741901776\n",
      "38 -0.9352255949794019\n",
      "39 2.7491892520972514\n",
      "40 1.345726725277094\n",
      "41 -2.4255457042966704\n",
      "42 -3.069541148159563\n",
      "43 -3.111625782936053\n",
      "44 -1.9462675083788838\n",
      "45 2.000784189731525\n",
      "46 2.331809490856767\n",
      "47 -1.5987399984343158\n",
      "48 -3.1243335346799164\n",
      "49 -3.041969712986956\n",
      "50 -2.6494434333994707\n",
      "51 0.9091018238335029\n",
      "52 2.9067507868726685\n",
      "53 -0.4987111003614815\n",
      "54 -3.051876744321861\n",
      "55 -3.0002447067612117\n",
      "56 -3.0206221107050117\n",
      "57 -0.31102634681573527\n",
      "58 2.9502101348824135\n",
      "59 0.721084600888455\n",
      "60 -2.728612833833212\n",
      "61 -3.031586218973199\n",
      "62 -3.1247658853500075\n",
      "63 -1.4419170382438933\n",
      "64 2.4529739365105376\n",
      "65 1.8477773689250068\n",
      "66 -2.0782435345118917\n",
      "67 -3.102731068074095\n",
      "68 -3.081234802571774\n",
      "69 -2.3180033343990796\n",
      "70 1.5194856186779355\n",
      "71 2.6621738667167216\n",
      "72 -1.1096773127462345\n",
      "73 -3.114275307403771\n",
      "74 -3.0144124723755983\n",
      "75 -2.862595712706667\n",
      "76 0.3392786238034251\n",
      "77 2.996641570560694\n",
      "78 0.07028307440126724\n",
      "79 -2.9378658811095146\n",
      "80 -3.0060366489748884\n",
      "81 -3.096146212161173\n",
      "82 -0.8640891124117184\n",
      "83 2.780552842344261\n",
      "84 1.27470705111823\n",
      "85 -2.4662216119652025\n",
      "86 -3.0648243343258796\n",
      "87 -3.114684396683337\n",
      "88 -1.8912990121261701\n",
      "89 2.059646983066533\n",
      "90 2.2804500598595316\n",
      "91 -1.659570759452126\n",
      "92 -3.123263501482793\n",
      "93 -3.0463683849068097\n",
      "94 -2.6154588836513097\n",
      "95 0.9834782858566518\n",
      "96 2.8856529422402697\n",
      "97 -0.572972711858261\n",
      "98 -3.0626120737167852\n",
      "99 -3.0007919075896305\n"
     ]
    }
   ],
   "source": [
    "for x in range(100):\n",
    "    print(x,3*sin(x)-2*cos(x)**2)"
   ]
  },
  {
   "cell_type": "code",
   "execution_count": 15,
   "id": "0bbda2dc-413f-45e9-a0c3-dbc00313c25e",
   "metadata": {},
   "outputs": [],
   "source": [
    "def trig_identity1_print(x):\n",
    "    value=3*sin(x)-2*cos(x)**2\n",
    "    print(value)\n",
    "    \n",
    "    \n",
    "def trig_identity1_return(x):\n",
    "    value=3*sin(x)-2*cos(x)**2\n",
    "    return value"
   ]
  },
  {
   "cell_type": "code",
   "execution_count": 16,
   "id": "be096aa5-fca8-4a8c-890c-40e0b5523eea",
   "metadata": {},
   "outputs": [
    {
     "name": "stdout",
     "output_type": "stream",
     "text": [
      "1.9405597909708314\n"
     ]
    }
   ],
   "source": [
    "trig_identity1_print(1.0)"
   ]
  },
  {
   "cell_type": "code",
   "execution_count": 17,
   "id": "9cc8cbbe-2373-4786-aed8-bbec452bbc27",
   "metadata": {},
   "outputs": [
    {
     "data": {
      "text/plain": [
       "1.9405597909708314"
      ]
     },
     "execution_count": 17,
     "metadata": {},
     "output_type": "execute_result"
    }
   ],
   "source": [
    "trig_identity1_return(1.0)"
   ]
  },
  {
   "cell_type": "code",
   "execution_count": 19,
   "id": "8a77efb0-0542-4b76-98f5-e25afa1e3ad2",
   "metadata": {},
   "outputs": [
    {
     "name": "stdout",
     "output_type": "stream",
     "text": [
      "bad\n"
     ]
    }
   ],
   "source": [
    "value=trig_identity1_return(1.0)\n",
    "if value>0.0:\n",
    "    print(\"bad\")"
   ]
  },
  {
   "cell_type": "code",
   "execution_count": 20,
   "id": "87dd3fc6-28c8-45e8-a757-704451e0f467",
   "metadata": {},
   "outputs": [
    {
     "name": "stdout",
     "output_type": "stream",
     "text": [
      "1.9405597909708314\n"
     ]
    },
    {
     "ename": "TypeError",
     "evalue": "'>' not supported between instances of 'NoneType' and 'float'",
     "output_type": "error",
     "traceback": [
      "\u001b[0;31m---------------------------------------------------------------------------\u001b[0m",
      "\u001b[0;31mTypeError\u001b[0m                                 Traceback (most recent call last)",
      "\u001b[0;32m~/tmp/ipykernel_15856/921917144.py\u001b[0m in \u001b[0;36m<module>\u001b[0;34m\u001b[0m\n\u001b[1;32m      1\u001b[0m \u001b[0mvalue\u001b[0m\u001b[0;34m=\u001b[0m\u001b[0mtrig_identity1_print\u001b[0m\u001b[0;34m(\u001b[0m\u001b[0;36m1.0\u001b[0m\u001b[0;34m)\u001b[0m\u001b[0;34m\u001b[0m\u001b[0;34m\u001b[0m\u001b[0m\n\u001b[0;32m----> 2\u001b[0;31m \u001b[0;32mif\u001b[0m \u001b[0mvalue\u001b[0m\u001b[0;34m>\u001b[0m\u001b[0;36m0.0\u001b[0m\u001b[0;34m:\u001b[0m\u001b[0;34m\u001b[0m\u001b[0;34m\u001b[0m\u001b[0m\n\u001b[0m\u001b[1;32m      3\u001b[0m     \u001b[0mprint\u001b[0m\u001b[0;34m(\u001b[0m\u001b[0;34m\"bad\"\u001b[0m\u001b[0;34m)\u001b[0m\u001b[0;34m\u001b[0m\u001b[0;34m\u001b[0m\u001b[0m\n",
      "\u001b[0;31mTypeError\u001b[0m: '>' not supported between instances of 'NoneType' and 'float'"
     ]
    }
   ],
   "source": [
    "value=trig_identity1_print(1.0)\n",
    "if value>0.0:\n",
    "    print(\"bad\")"
   ]
  },
  {
   "cell_type": "code",
   "execution_count": 22,
   "id": "e602b1f4-5f64-4aa7-ac18-af4796daecba",
   "metadata": {},
   "outputs": [],
   "source": [
    "value=trig_identity1_return(1.0)\n",
    "print(value)"
   ]
  },
  {
   "cell_type": "code",
   "execution_count": 25,
   "id": "6f4adc48-4a6a-4c5a-a053-d2c3dda2b564",
   "metadata": {},
   "outputs": [
    {
     "name": "stdout",
     "output_type": "stream",
     "text": [
      "55\n"
     ]
    }
   ],
   "source": [
    "value=0\n",
    "N=10\n",
    "for i in range(1,N+1):\n",
    "    value=value+i\n",
    "    \n",
    "print(value)"
   ]
  },
  {
   "cell_type": "code",
   "execution_count": 28,
   "id": "48cc8d2d-6650-4180-840e-81f6b52c93fe",
   "metadata": {},
   "outputs": [],
   "source": [
    "def mysum(N):\n",
    "    value=0\n",
    "    for i in range(1,N+1):\n",
    "        value=value+i\n",
    "\n",
    "    return value"
   ]
  },
  {
   "cell_type": "code",
   "execution_count": 29,
   "id": "eeab6087-ed88-4e25-9be5-3219f9938de5",
   "metadata": {},
   "outputs": [
    {
     "data": {
      "text/plain": [
       "55"
      ]
     },
     "execution_count": 29,
     "metadata": {},
     "output_type": "execute_result"
    }
   ],
   "source": [
    "mysum(10)"
   ]
  },
  {
   "cell_type": "code",
   "execution_count": 30,
   "id": "0be82f38-2ece-4e55-8cda-537b2ecfb83d",
   "metadata": {},
   "outputs": [
    {
     "data": {
      "text/plain": [
       "110"
      ]
     },
     "execution_count": 30,
     "metadata": {},
     "output_type": "execute_result"
    }
   ],
   "source": [
    "mysum(10)*2"
   ]
  },
  {
   "cell_type": "code",
   "execution_count": null,
   "id": "35ee0a1c-af44-4607-8e27-4d268a29bb6b",
   "metadata": {},
   "outputs": [],
   "source": []
  }
 ],
 "metadata": {
  "kernelspec": {
   "display_name": "Python 3 (ipykernel)",
   "language": "python",
   "name": "python3"
  },
  "language_info": {
   "codemirror_mode": {
    "name": "ipython",
    "version": 3
   },
   "file_extension": ".py",
   "mimetype": "text/x-python",
   "name": "python",
   "nbconvert_exporter": "python",
   "pygments_lexer": "ipython3",
   "version": "3.8.12"
  }
 },
 "nbformat": 4,
 "nbformat_minor": 5
}
