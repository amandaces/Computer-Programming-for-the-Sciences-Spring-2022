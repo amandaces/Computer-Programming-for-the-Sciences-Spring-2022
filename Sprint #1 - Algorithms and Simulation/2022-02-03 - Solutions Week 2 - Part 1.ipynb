{
 "cells": [
  {
   "cell_type": "markdown",
   "id": "0db0d74e-21cd-4cf4-860b-63b9e65bb847",
   "metadata": {},
   "source": [
    "Factorial\n",
    "\n",
    "$$\n",
    "1 \\times 2 \\times 3 \\times \\cdots \\times N\n",
    "$$"
   ]
  },
  {
   "cell_type": "code",
   "execution_count": 3,
   "id": "77c2e538-d656-497f-9826-fcfe9ca9f39b",
   "metadata": {},
   "outputs": [],
   "source": [
    "def factorial_return(N):\n",
    "    total=1\n",
    "    for i in range(N):  \n",
    "        value=i+1\n",
    "        total=total*value\n",
    "        \n",
    "    return total"
   ]
  },
  {
   "cell_type": "code",
   "execution_count": 4,
   "id": "703bc225-89e1-451f-ab7e-ce5586e8d70b",
   "metadata": {},
   "outputs": [],
   "source": [
    "def factorial_print(N):\n",
    "    total=1\n",
    "    for i in range(N):  \n",
    "        value=i+1\n",
    "        total=total*value\n",
    "        \n",
    "    print(total)"
   ]
  },
  {
   "cell_type": "code",
   "execution_count": 5,
   "id": "108f3a33-08b5-4e18-a7eb-cacb291ccf3b",
   "metadata": {},
   "outputs": [
    {
     "data": {
      "text/plain": [
       "120"
      ]
     },
     "execution_count": 5,
     "metadata": {},
     "output_type": "execute_result"
    }
   ],
   "source": [
    "factorial_return(5)"
   ]
  },
  {
   "cell_type": "code",
   "execution_count": 6,
   "id": "022694a0-2301-4bba-af47-24026021bc17",
   "metadata": {},
   "outputs": [
    {
     "name": "stdout",
     "output_type": "stream",
     "text": [
      "120\n"
     ]
    }
   ],
   "source": [
    "factorial_print(5)"
   ]
  },
  {
   "cell_type": "code",
   "execution_count": 7,
   "id": "8eef3fe7-d469-4e64-8afb-aaa49ed23f0e",
   "metadata": {},
   "outputs": [
    {
     "name": "stdout",
     "output_type": "stream",
     "text": [
      "240\n"
     ]
    }
   ],
   "source": [
    "a=factorial_return(5)\n",
    "print(2*a)"
   ]
  },
  {
   "cell_type": "code",
   "execution_count": 8,
   "id": "edffe03b-9d76-48b8-880c-64c218a4ce5c",
   "metadata": {},
   "outputs": [
    {
     "name": "stdout",
     "output_type": "stream",
     "text": [
      "120\n"
     ]
    },
    {
     "ename": "TypeError",
     "evalue": "unsupported operand type(s) for *: 'int' and 'NoneType'",
     "output_type": "error",
     "traceback": [
      "\u001b[0;31m---------------------------------------------------------------------------\u001b[0m",
      "\u001b[0;31mTypeError\u001b[0m                                 Traceback (most recent call last)",
      "\u001b[0;32m~/tmp/ipykernel_4362/2473070427.py\u001b[0m in \u001b[0;36m<module>\u001b[0;34m\u001b[0m\n\u001b[1;32m      1\u001b[0m \u001b[0ma\u001b[0m\u001b[0;34m=\u001b[0m\u001b[0mfactorial_print\u001b[0m\u001b[0;34m(\u001b[0m\u001b[0;36m5\u001b[0m\u001b[0;34m)\u001b[0m\u001b[0;34m\u001b[0m\u001b[0;34m\u001b[0m\u001b[0m\n\u001b[0;32m----> 2\u001b[0;31m \u001b[0mprint\u001b[0m\u001b[0;34m(\u001b[0m\u001b[0;36m2\u001b[0m\u001b[0;34m*\u001b[0m\u001b[0ma\u001b[0m\u001b[0;34m)\u001b[0m\u001b[0;34m\u001b[0m\u001b[0;34m\u001b[0m\u001b[0m\n\u001b[0m",
      "\u001b[0;31mTypeError\u001b[0m: unsupported operand type(s) for *: 'int' and 'NoneType'"
     ]
    }
   ],
   "source": [
    "a=factorial_print(5)\n",
    "print(2*a)"
   ]
  },
  {
   "cell_type": "code",
   "execution_count": 9,
   "id": "1ed58967-3d23-455b-a5af-c88e37dc7714",
   "metadata": {},
   "outputs": [],
   "source": [
    "def factorial(N):\n",
    "    total=1\n",
    "    for value in range(1,N+1):  \n",
    "        total=total*value\n",
    "        \n",
    "    return total"
   ]
  },
  {
   "cell_type": "code",
   "execution_count": 10,
   "id": "ed387fe5-78f7-434f-8c39-ffc0638e2d13",
   "metadata": {},
   "outputs": [
    {
     "data": {
      "text/plain": [
       "120"
      ]
     },
     "execution_count": 10,
     "metadata": {},
     "output_type": "execute_result"
    }
   ],
   "source": [
    "factorial(5)"
   ]
  },
  {
   "cell_type": "code",
   "execution_count": 14,
   "id": "7acc16ef-8d25-4baf-9b14-6ff9881a96ae",
   "metadata": {},
   "outputs": [],
   "source": [
    "from math import sin,cos\n",
    "from pylab import rand"
   ]
  },
  {
   "cell_type": "code",
   "execution_count": 13,
   "id": "4a98e24f-ff32-476b-839a-36f67b68ccef",
   "metadata": {},
   "outputs": [
    {
     "data": {
      "text/plain": [
       "1.0"
      ]
     },
     "execution_count": 13,
     "metadata": {},
     "output_type": "execute_result"
    }
   ],
   "source": [
    "angle=15\n",
    "sin(angle)**2 + cos(angle)**2"
   ]
  },
  {
   "cell_type": "code",
   "execution_count": 15,
   "id": "9ca06fbe-2b44-47bf-b668-6b7923f79892",
   "metadata": {},
   "outputs": [
    {
     "name": "stdout",
     "output_type": "stream",
     "text": [
      "75.8340781464639      1.0\n",
      "23.240524638469584      1.0\n",
      "68.86183807106151      0.9999999999999999\n",
      "97.25021725216857      1.0\n",
      "34.14234649907611      1.0\n",
      "99.94792234302365      0.9999999999999999\n",
      "15.350686256018731      0.9999999999999999\n",
      "77.54473382436504      1.0\n",
      "63.568671684546004      0.9999999999999999\n",
      "68.17858627795646      1.0000000000000002\n",
      "74.91947171049782      1.0\n",
      "88.21460756157033      1.0\n",
      "36.66270095256934      1.0000000000000002\n",
      "49.49976515477182      1.0\n",
      "89.20670192629225      0.9999999999999999\n",
      "11.129664781330394      1.0000000000000002\n",
      "91.19400671417914      1.0\n",
      "30.239842437625608      1.0\n",
      "71.96938460621428      1.0\n",
      "31.26541321205708      1.0\n",
      "89.4443870931345      1.0\n",
      "76.68627851125802      1.0\n",
      "36.08573975439715      1.0\n",
      "68.43867646005796      1.0\n",
      "68.24372007257476      1.0\n",
      "51.719811877592434      1.0\n",
      "90.77935969418088      0.9999999999999999\n",
      "28.474015441686372      0.9999999999999999\n",
      "53.18435323907544      0.9999999999999999\n",
      "56.34826136288268      1.0\n",
      "6.20080437099878      1.0\n",
      "92.49143954673265      1.0\n",
      "63.058432801258135      1.0\n",
      "48.019389759874855      1.0\n",
      "4.865789085813532      0.9999999999999999\n",
      "79.62935939961415      1.0000000000000002\n",
      "71.01736216339569      1.0\n",
      "98.40970116073579      1.0\n",
      "82.25999610668843      0.9999999999999999\n",
      "26.361117938305156      1.0\n",
      "31.53109406808017      1.0\n",
      "32.447663323747896      0.9999999999999999\n",
      "89.28826983899016      1.0\n",
      "36.20346254249542      1.0\n",
      "70.68630522117851      1.0\n",
      "6.607174819174045      1.0\n",
      "18.523516061801804      1.0\n",
      "42.09627783330292      1.0\n",
      "34.96936975626201      1.0\n",
      "33.7674956155688      1.0\n",
      "84.1850991788461      1.0\n",
      "72.76394579802738      1.0\n",
      "36.07285486707765      1.0\n",
      "47.89363895223572      1.0\n",
      "10.149007798013388      1.0\n",
      "43.39440718137965      1.0\n",
      "63.276609379835335      1.0\n",
      "40.925373506013884      0.9999999999999999\n",
      "97.62409912300568      0.9999999999999999\n",
      "0.1540468443674614      0.9999999999999999\n",
      "67.63886796251501      1.0\n",
      "61.58180937779573      1.0\n",
      "94.80695523026841      1.0\n",
      "16.27347501693196      1.0\n",
      "28.5233240020894      0.9999999999999999\n",
      "80.67436029951676      1.0\n",
      "39.414239853108036      1.0\n",
      "63.622759517438446      1.0\n",
      "87.43264108383413      1.0\n",
      "46.363945159080814      1.0\n",
      "31.096394533500792      1.0\n",
      "88.86527088778618      1.0\n",
      "41.81981150890308      1.0\n",
      "49.575481332024026      1.0\n",
      "29.588614361462916      1.0\n",
      "46.72089777934413      1.0\n",
      "66.01105848606122      1.0\n",
      "77.12529074691757      1.0\n",
      "19.87400521282636      1.0\n",
      "53.13234812674036      1.0\n",
      "16.795550838255522      1.0\n",
      "22.956545166367025      1.0\n",
      "74.4932019061294      0.9999999999999999\n",
      "13.72092141727027      1.0\n",
      "71.79089243897478      1.0\n",
      "57.860327247495356      1.0\n",
      "55.87180816345112      1.0\n",
      "76.24865260035966      1.0\n",
      "7.812418812180455      1.0\n",
      "17.814279918026177      1.0\n",
      "73.63896249443499      0.9999999999999999\n",
      "98.17468652496984      1.0\n",
      "18.843772087876186      1.0\n",
      "68.35301085830638      1.0\n",
      "68.92127390242841      1.0\n",
      "52.136891994582214      1.0\n",
      "9.3128803501892      0.9999999999999999\n",
      "3.8623470782741753      1.0\n",
      "97.94191117484581      0.9999999999999998\n",
      "59.63427418631575      1.0\n"
     ]
    }
   ],
   "source": [
    "for i in range(100):\n",
    "    angle=rand()*100\n",
    "    print(angle,\"    \",sin(angle)**2 + cos(angle)**2)"
   ]
  },
  {
   "cell_type": "code",
   "execution_count": null,
   "id": "f141de5d-075d-4fec-baef-d5699a7edc13",
   "metadata": {},
   "outputs": [],
   "source": []
  }
 ],
 "metadata": {
  "kernelspec": {
   "display_name": "Python 3 (ipykernel)",
   "language": "python",
   "name": "python3"
  },
  "language_info": {
   "codemirror_mode": {
    "name": "ipython",
    "version": 3
   },
   "file_extension": ".py",
   "mimetype": "text/x-python",
   "name": "python",
   "nbconvert_exporter": "python",
   "pygments_lexer": "ipython3",
   "version": "3.8.12"
  }
 },
 "nbformat": 4,
 "nbformat_minor": 5
}
