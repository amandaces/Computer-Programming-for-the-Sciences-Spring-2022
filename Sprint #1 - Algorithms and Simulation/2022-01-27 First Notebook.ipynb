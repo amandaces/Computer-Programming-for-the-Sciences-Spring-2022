{
 "cells": [
  {
   "cell_type": "code",
   "execution_count": 1,
   "id": "79cd47a0-e372-4174-9f37-690db55e7b66",
   "metadata": {},
   "outputs": [
    {
     "name": "stdout",
     "output_type": "stream",
     "text": [
      "hello world\n"
     ]
    }
   ],
   "source": [
    "print(\"hello world\")"
   ]
  },
  {
   "cell_type": "code",
   "execution_count": 1,
   "id": "82a4ee7b-5c62-45be-b357-b907cfc6778a",
   "metadata": {},
   "outputs": [
    {
     "data": {
      "text/plain": [
       "8"
      ]
     },
     "execution_count": 1,
     "metadata": {},
     "output_type": "execute_result"
    }
   ],
   "source": [
    "4+4"
   ]
  },
  {
   "cell_type": "code",
   "execution_count": 2,
   "id": "95595231-e769-443a-8f4c-7b5d7e3a4a4a",
   "metadata": {},
   "outputs": [
    {
     "data": {
      "text/plain": [
       "408539245616586543169302"
      ]
     },
     "execution_count": 2,
     "metadata": {},
     "output_type": "execute_result"
    }
   ],
   "source": [
    "5473693738437*74636847646"
   ]
  },
  {
   "cell_type": "code",
   "execution_count": 3,
   "id": "911df169-1840-48bf-afbf-d2d05e78366f",
   "metadata": {},
   "outputs": [
    {
     "data": {
      "text/plain": [
       "554313325475"
      ]
     },
     "execution_count": 3,
     "metadata": {},
     "output_type": "execute_result"
    }
   ],
   "source": [
    "bob=646373\n",
    "sally=857575\n",
    "bob*sally"
   ]
  },
  {
   "cell_type": "code",
   "execution_count": 4,
   "id": "6b0f2ec6-1559-44f2-8c03-5d33e0ab53f6",
   "metadata": {},
   "outputs": [
    {
     "data": {
      "text/plain": [
       "-211202"
      ]
     },
     "execution_count": 4,
     "metadata": {},
     "output_type": "execute_result"
    }
   ],
   "source": [
    "bob-sally"
   ]
  },
  {
   "cell_type": "code",
   "execution_count": 6,
   "id": "f8d98d31-b6f1-434f-b92d-b47e30d7d3f2",
   "metadata": {},
   "outputs": [
    {
     "ename": "NameError",
     "evalue": "name 'Brian' is not defined",
     "output_type": "error",
     "traceback": [
      "\u001b[1;31m---------------------------------------------------------------------------\u001b[0m",
      "\u001b[1;31mNameError\u001b[0m                                 Traceback (most recent call last)",
      "\u001b[1;32m~\\AppData\\Local\\Temp/ipykernel_8448/1706435112.py\u001b[0m in \u001b[0;36m<module>\u001b[1;34m\u001b[0m\n\u001b[0;32m      1\u001b[0m \u001b[1;32mfor\u001b[0m \u001b[0mbrian\u001b[0m \u001b[1;32min\u001b[0m \u001b[0mrange\u001b[0m\u001b[1;33m(\u001b[0m\u001b[1;36m100\u001b[0m\u001b[1;33m)\u001b[0m\u001b[1;33m:\u001b[0m\u001b[1;33m\u001b[0m\u001b[1;33m\u001b[0m\u001b[0m\n\u001b[1;32m----> 2\u001b[1;33m     \u001b[0mprint\u001b[0m\u001b[1;33m(\u001b[0m\u001b[0mBrian\u001b[0m\u001b[1;33m)\u001b[0m\u001b[1;33m\u001b[0m\u001b[1;33m\u001b[0m\u001b[0m\n\u001b[0m",
      "\u001b[1;31mNameError\u001b[0m: name 'Brian' is not defined"
     ]
    }
   ],
   "source": [
    "for brian in range(100):\n",
    "    print(Brian)"
   ]
  },
  {
   "cell_type": "code",
   "execution_count": 10,
   "id": "af558091-f6ab-4b4f-8ce7-5d7e937f6767",
   "metadata": {},
   "outputs": [
    {
     "name": "stdout",
     "output_type": "stream",
     "text": [
      "0\n",
      "hello\n",
      "1\n",
      "hello\n",
      "2\n",
      "hello\n",
      "3\n",
      "hello\n",
      "done.\n"
     ]
    }
   ],
   "source": [
    "for brian in range(4):\n",
    "    print(brian)\n",
    "    print(\"hello\")\n",
    "    \n",
    "print(\"done.\")"
   ]
  },
  {
   "cell_type": "markdown",
   "id": "5c98db04-e942-41e4-af51-9f1862d4cf03",
   "metadata": {},
   "source": [
    "Markdown is for taking notes.  You can do **bold** and *italic*\n",
    "\n",
    "- bulleted\n",
    "- lists\n",
    "- here\n",
    "\n",
    "even equations\n",
    "\n",
    "$$\n",
    "E=mc^2\n",
    "$$"
   ]
  },
  {
   "cell_type": "code",
   "execution_count": 11,
   "id": "66bc5ccc-e408-4943-b074-c5e2178348bb",
   "metadata": {},
   "outputs": [],
   "source": [
    "a=5"
   ]
  },
  {
   "cell_type": "code",
   "execution_count": 13,
   "id": "d65e6b12-e12a-4b06-9834-93ed14a246de",
   "metadata": {},
   "outputs": [
    {
     "name": "stdout",
     "output_type": "stream",
     "text": [
      "11\n"
     ]
    }
   ],
   "source": [
    "a=a+3\n",
    "print(a)"
   ]
  },
  {
   "cell_type": "code",
   "execution_count": null,
   "id": "98cc6776-8ba0-4828-ae34-1fa6e12b7986",
   "metadata": {},
   "outputs": [],
   "source": []
  },
  {
   "cell_type": "code",
   "execution_count": null,
   "id": "f940aaa0-50f2-431f-846f-a8ba8ea23391",
   "metadata": {},
   "outputs": [],
   "source": [
    "for brian in range(4):\n",
    "    print(brian)\n",
    "    print(\"hello\")\n",
    "    \n",
    "print(\"done.\")"
   ]
  },
  {
   "cell_type": "code",
   "execution_count": null,
   "id": "9fb85e46-bbef-4476-aee3-809d91567167",
   "metadata": {},
   "outputs": [],
   "source": []
  },
  {
   "cell_type": "code",
   "execution_count": 14,
   "id": "4b6d14a8-1961-4863-9000-946ce3f33e01",
   "metadata": {},
   "outputs": [
    {
     "name": "stdout",
     "output_type": "stream",
     "text": [
      "4950\n"
     ]
    }
   ],
   "source": [
    "number=0\n",
    "for value in range(100):\n",
    "    number=number+value\n",
    "    \n",
    "print(number)"
   ]
  },
  {
   "cell_type": "code",
   "execution_count": null,
   "id": "a5aeedc3-1cbe-4997-97bf-a662f0cadfc0",
   "metadata": {},
   "outputs": [],
   "source": []
  }
 ],
 "metadata": {
  "kernelspec": {
   "display_name": "Python 3 (ipykernel)",
   "language": "python",
   "name": "python3"
  },
  "language_info": {
   "codemirror_mode": {
    "name": "ipython",
    "version": 3
   },
   "file_extension": ".py",
   "mimetype": "text/x-python",
   "name": "python",
   "nbconvert_exporter": "python",
   "pygments_lexer": "ipython3",
   "version": "3.8.12"
  }
 },
 "nbformat": 4,
 "nbformat_minor": 5
}
