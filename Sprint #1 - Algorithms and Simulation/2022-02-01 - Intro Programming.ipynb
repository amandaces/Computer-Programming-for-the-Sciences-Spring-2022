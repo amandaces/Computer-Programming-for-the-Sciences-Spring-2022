{
 "cells": [
  {
   "cell_type": "code",
   "execution_count": 13,
   "id": "3a205ff2-37ae-4c2b-972a-dee50f839e67",
   "metadata": {},
   "outputs": [],
   "source": [
    "from math import sin,radians,cos"
   ]
  },
  {
   "cell_type": "code",
   "execution_count": null,
   "id": "616d8dfe-ce84-4303-93b1-36a8e0f0b7f6",
   "metadata": {},
   "outputs": [],
   "source": []
  },
  {
   "cell_type": "code",
   "execution_count": null,
   "id": "68a1c4fa-54cf-4823-9e48-67f93e9a6240",
   "metadata": {},
   "outputs": [],
   "source": []
  },
  {
   "cell_type": "code",
   "execution_count": 9,
   "id": "e7c4b286-4200-4ab7-a64b-164a5009fc70",
   "metadata": {},
   "outputs": [
    {
     "data": {
      "text/plain": [
       "0.9092974268256817"
      ]
     },
     "execution_count": 9,
     "metadata": {},
     "output_type": "execute_result"
    }
   ],
   "source": [
    "sin(2.0)"
   ]
  },
  {
   "cell_type": "code",
   "execution_count": 10,
   "id": "6f949a1f-dc3b-4299-ac5f-0a7f6be10505",
   "metadata": {},
   "outputs": [
    {
     "data": {
      "text/plain": [
       "0.8939966636005579"
      ]
     },
     "execution_count": 10,
     "metadata": {},
     "output_type": "execute_result"
    }
   ],
   "source": [
    "sin(90)"
   ]
  },
  {
   "cell_type": "code",
   "execution_count": 11,
   "id": "ea6eeac7-8329-46e1-91d1-21cca3bf970c",
   "metadata": {},
   "outputs": [
    {
     "data": {
      "text/plain": [
       "1.0"
      ]
     },
     "execution_count": 11,
     "metadata": {},
     "output_type": "execute_result"
    }
   ],
   "source": [
    "sin(radians(90))"
   ]
  },
  {
   "cell_type": "code",
   "execution_count": 14,
   "id": "d859cb78-dbb5-4e89-a93d-6373e20dd915",
   "metadata": {},
   "outputs": [
    {
     "data": {
      "text/plain": [
       "6.123233995736766e-17"
      ]
     },
     "execution_count": 14,
     "metadata": {},
     "output_type": "execute_result"
    }
   ],
   "source": [
    "cos(radians(90))"
   ]
  },
  {
   "cell_type": "markdown",
   "id": "fd662052-7db8-4d4c-bf0d-3e9937523796",
   "metadata": {},
   "source": [
    "Exponential is ** not ^"
   ]
  },
  {
   "cell_type": "code",
   "execution_count": 18,
   "id": "4efebc85-4dbc-4015-9462-e9889d237612",
   "metadata": {},
   "outputs": [
    {
     "data": {
      "text/plain": [
       "25"
      ]
     },
     "execution_count": 18,
     "metadata": {},
     "output_type": "execute_result"
    }
   ],
   "source": [
    "5**2  # exponential  (for people to read not computers)"
   ]
  },
  {
   "cell_type": "code",
   "execution_count": 16,
   "id": "c444b0c4-a68b-45c9-a7d0-d7b921772cdc",
   "metadata": {},
   "outputs": [
    {
     "data": {
      "text/plain": [
       "10"
      ]
     },
     "execution_count": 16,
     "metadata": {},
     "output_type": "execute_result"
    }
   ],
   "source": [
    "5*2"
   ]
  },
  {
   "cell_type": "code",
   "execution_count": 17,
   "id": "2035e8bd-6a56-4b46-9435-e22bc9504a73",
   "metadata": {},
   "outputs": [
    {
     "data": {
      "text/plain": [
       "7"
      ]
     },
     "execution_count": 17,
     "metadata": {},
     "output_type": "execute_result"
    }
   ],
   "source": [
    "-5**2"
   ]
  },
  {
   "cell_type": "code",
   "execution_count": 19,
   "id": "d793221f-4919-4984-b47d-5698432cf893",
   "metadata": {},
   "outputs": [],
   "source": [
    "G=6.7e-11\n",
    "M=6.4e24"
   ]
  },
  {
   "cell_type": "code",
   "execution_count": null,
   "id": "0fa73194-8c72-4e87-9a8b-42b654bbe827",
   "metadata": {},
   "outputs": [],
   "source": []
  }
 ],
 "metadata": {
  "kernelspec": {
   "display_name": "Python 3 (ipykernel)",
   "language": "python",
   "name": "python3"
  },
  "language_info": {
   "codemirror_mode": {
    "name": "ipython",
    "version": 3
   },
   "file_extension": ".py",
   "mimetype": "text/x-python",
   "name": "python",
   "nbconvert_exporter": "python",
   "pygments_lexer": "ipython3",
   "version": "3.8.12"
  }
 },
 "nbformat": 4,
 "nbformat_minor": 5
}
